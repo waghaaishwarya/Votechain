{
 "cells": [
  {
   "cell_type": "markdown",
   "id": "20bd7dd4-1045-475d-a2f9-edab98a1c56f",
   "metadata": {},
   "source": [
    "# importing necessary libraries"
   ]
  },
  {
   "cell_type": "code",
   "execution_count": 1,
   "id": "7b61c499-92d6-486b-8ece-67893b59688b",
   "metadata": {},
   "outputs": [],
   "source": [
    "import hashlib\n",
    "import time"
   ]
  },
  {
   "cell_type": "markdown",
   "id": "e058055c-55a0-4338-89e1-d22c8bad2a76",
   "metadata": {},
   "source": [
    "# defining the block class"
   ]
  },
  {
   "cell_type": "code",
   "execution_count": 2,
   "id": "286eac50-5e65-4f09-8076-51ea157048d3",
   "metadata": {},
   "outputs": [],
   "source": [
    "class Block:\n",
    "    def __init__(self, index, timestamp, vote_info, proof, previous_hash):\n",
    "         # initializing a block with index, timestamp, vote information, proof of work, & previous hash\n",
    "        self.index = index\n",
    "        self.timestamp = timestamp\n",
    "        self.vote_info = vote_info\n",
    "        self.proof = proof\n",
    "        self.previous_hash = previous_hash\n",
    "        self.hash = self.compute_hash() # computing the hash of the block\n",
    "\n",
    "    def compute_hash(self):\n",
    "        # converting the block attributes to a JSON string and compute its SHA-256 hash\n",
    "        block_string = f\"{self.index}{self.timestamp}{self.vote_info}{self.proof}{self.previous_hash}\"\n",
    "        return hashlib.sha256(block_string.encode()).hexdigest()\n"
   ]
  },
  {
   "cell_type": "markdown",
   "id": "e3169dad-a7f9-4120-9c9f-99b867f9a8e4",
   "metadata": {},
   "source": [
    "# defining blockchain class & vote class"
   ]
  },
  {
   "cell_type": "code",
   "execution_count": 3,
   "id": "a8b3da0d-3794-4d8d-8a36-07fbc81639f5",
   "metadata": {},
   "outputs": [],
   "source": [
    "class Blockchain:\n",
    "    def __init__(self):\n",
    "        # initializing the blockchain with an empty chain and creating the genesis block\n",
    "        self.chain = []\n",
    "        self.create_genesis_block()\n",
    "        # to store votes that are yet to be added to a block\n",
    "        self.unconfirmed_votes = []  \n",
    "\n",
    "    def create_genesis_block(self):\n",
    "        # create and add the genesis block (first block) to the chain\n",
    "        genesis_block = Block(index=0, timestamp=time.time(), vote_info=\"Genesis Block\", proof=0, previous_hash=\"0\")\n",
    "        self.chain.append(genesis_block)\n",
    "\n",
    "    def get_latest_block(self):\n",
    "        # get the latest block in the chain\n",
    "        return self.chain[-1]\n",
    "\n",
    "    def add_block(self, new_block):\n",
    "        # set the previous hash of the new block to the hash of the latest block\n",
    "        previous_hash = self.get_latest_block().hash\n",
    "        new_block.previous_hash = previous_hash\n",
    "        # compute the hash of the new block\n",
    "        new_block.hash = new_block.compute_hash()\n",
    "        # add the new block to the chain\n",
    "        self.chain.append(new_block)\n",
    "\n",
    "    def validate_chain(self):\n",
    "        # validate the entire blockchain\n",
    "        for i in range(1, len(self.chain)):\n",
    "            current = self.chain[i]\n",
    "            previous = self.chain[i - 1]\n",
    "            # check if the current block's hash is correct\n",
    "            if current.hash != current.compute_hash():\n",
    "                return False\n",
    "            # check if the current block's previous_hash matches the previous block's hash\n",
    "            if current.previous_hash != previous.hash:\n",
    "                return False\n",
    "        return True\n",
    "\n",
    "    def update_chain(self):\n",
    "        # placeholder function for updating the blockchain in a network (simplified)\n",
    "        pass\n",
    "\n",
    "    def proof_of_work(self, previous_proof):\n",
    "        # generate a valid proof of work for the given previous proof\n",
    "        new_proof = 1\n",
    "        check_proof = False\n",
    "        while not check_proof:\n",
    "            hash_operation = hashlib.sha256(str(new_proof**2 - previous_proof**2).encode()).hexdigest()\n",
    "            if hash_operation[:4] == '0000':  # adjusting the difficulty as needed\n",
    "                check_proof = True\n",
    "            else:\n",
    "                new_proof += 1\n",
    "        return new_proof\n",
    "\n",
    "    def create_block(self, proof, previous_hash):\n",
    "        # create a new block with the given proof and previous hash\n",
    "        new_block = Block(index=len(self.chain),\n",
    "                          timestamp=time.time(),\n",
    "                          vote_info=self.unconfirmed_votes,\n",
    "                          proof=proof,\n",
    "                          previous_hash=previous_hash)\n",
    "        # clear the list of unconfirmed votes\n",
    "        self.unconfirmed_votes = []\n",
    "        # add the new block to the chain\n",
    "        self.add_block(new_block)\n",
    "        return new_block\n",
    "\n",
    "    def create_vote(self, voter_name, unique_ID, voted_for):\n",
    "        # create a new vote and add it to the list of unconfirmed votes\n",
    "        vote = {'voter_name': voter_name, 'unique_ID': unique_ID, 'voted_for': voted_for}\n",
    "        self.unconfirmed_votes.append(vote)\n",
    "\n",
    "    def hash(self, block):\n",
    "        # compute the hash of the given block\n",
    "        return block.compute_hash()\n",
    "\n",
    "    def last_block(self):\n",
    "        # get the latest block in the chain\n",
    "        return self.get_latest_block()"
   ]
  },
  {
   "cell_type": "markdown",
   "id": "62cf6cdc-d87c-4e26-b9ee-d04f7e9dfff1",
   "metadata": {},
   "source": [
    "# putting it all together"
   ]
  },
  {
   "cell_type": "code",
   "execution_count": 4,
   "id": "5f7979fe-c45c-4770-b4f8-771daacebf44",
   "metadata": {},
   "outputs": [
    {
     "name": "stdout",
     "output_type": "stream",
     "text": [
      "Blockchain valid: True\n",
      "Block 0: {'index': 0, 'timestamp': 1722880656.3307962, 'vote_info': 'Genesis Block', 'proof': 0, 'previous_hash': '0', 'hash': '6a0f34ece479a23d53c12c5530726bf76a1c8449a95dbcf1a8bb5d3a1591c3f8'}\n",
      "Block 1: {'index': 1, 'timestamp': 1722880656.4345937, 'vote_info': [{'voter_name': 'Aaron', 'unique_ID': '1204', 'voted_for': 'CandidateA'}, {'voter_name': 'Keira', 'unique_ID': '5177', 'voted_for': 'CandidateB'}], 'proof': 115558, 'previous_hash': '6a0f34ece479a23d53c12c5530726bf76a1c8449a95dbcf1a8bb5d3a1591c3f8', 'hash': '2ec43599acdfa0d8b0e39d07af3a86a5d672d6251478bdcedac0fc220546b76c'}\n"
     ]
    }
   ],
   "source": [
    "# initializing the blockchain\n",
    "blockchain = Blockchain()\n",
    "\n",
    "# adding some votes\n",
    "blockchain.create_vote(\"Aaron\", \"1204\", \"CandidateA\")\n",
    "blockchain.create_vote(\"Keira\", \"5177\", \"CandidateB\")\n",
    "\n",
    "# create a new block with the added votes\n",
    "# get the proof of work from the last block\n",
    "last_proof = blockchain.last_block().proof\n",
    "# generate a new proof of work\n",
    "proof = blockchain.proof_of_work(last_proof)\n",
    "# get the hash of the last block\n",
    "previous_hash = blockchain.last_block().hash\n",
    "# create a new block with the proof and previous hash\n",
    "new_block = blockchain.create_block(proof, previous_hash)\n",
    "\n",
    "# validate the blockchain\n",
    "is_valid = blockchain.validate_chain()\n",
    "print(f\"Blockchain valid: {is_valid}\")\n",
    "\n",
    "# output the blockchain\n",
    "for block in blockchain.chain:\n",
    "    # print details of each block in the chain\n",
    "    print(f\"Block {block.index}: {block.__dict__}\")\n"
   ]
  }
 ],
 "metadata": {
  "kernelspec": {
   "display_name": "Python 3 (ipykernel)",
   "language": "python",
   "name": "python3"
  },
  "language_info": {
   "codemirror_mode": {
    "name": "ipython",
    "version": 3
   },
   "file_extension": ".py",
   "mimetype": "text/x-python",
   "name": "python",
   "nbconvert_exporter": "python",
   "pygments_lexer": "ipython3",
   "version": "3.12.3"
  }
 },
 "nbformat": 4,
 "nbformat_minor": 5
}
